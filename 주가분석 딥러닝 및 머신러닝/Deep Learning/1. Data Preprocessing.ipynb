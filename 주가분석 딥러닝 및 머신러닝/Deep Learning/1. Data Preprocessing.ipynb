{
 "cells": [
  {
   "cell_type": "code",
   "execution_count": 1,
   "metadata": {},
   "outputs": [],
   "source": [
    "%load_ext autoreload\n",
    "%autoreload 2"
   ]
  },
  {
   "cell_type": "code",
   "execution_count": 2,
   "metadata": {},
   "outputs": [],
   "source": [
    "from glob import glob\n",
    "from preprocessing import *\n",
    "\n",
    "from tqdm import notebook"
   ]
  },
  {
   "cell_type": "code",
   "execution_count": 3,
   "metadata": {},
   "outputs": [
    {
     "name": "stdout",
     "output_type": "stream",
     "text": [
      "2492 1145\n",
      "./dataset\\Totaldata_000020_ref_IXIC.csv\n",
      "./revised_raw_dataset\\Totaldata_000020_ref_IXIC.csv\n"
     ]
    }
   ],
   "source": [
    "data_dir = './dataset/'\n",
    "data_files = glob(data_dir + 'Totaldata*.csv')\n",
    "new_data_dir = './revised_raw_dataset/'\n",
    "new_data_files = glob(new_data_dir + 'Totaldata*.csv')\n",
    "print(len(data_files), len(new_data_files))\n",
    "print(data_files[0])\n",
    "print(new_data_files[0])"
   ]
  },
  {
   "cell_type": "code",
   "execution_count": 4,
   "metadata": {},
   "outputs": [
    {
     "data": {
      "text/plain": [
       "('./dataset', './revised_raw_dataset')"
      ]
     },
     "execution_count": 4,
     "metadata": {},
     "output_type": "execute_result"
    }
   ],
   "source": [
    "os.path.dirname(data_files[0]), os.path.dirname(new_data_files[0])"
   ]
  },
  {
   "cell_type": "code",
   "execution_count": 7,
   "metadata": {},
   "outputs": [
    {
     "name": "stdout",
     "output_type": "stream",
     "text": [
      "3835 3850\n",
      "<class 'pandas.core.frame.DataFrame'>\n",
      "Index: 3850 entries, 2006-06-15 to 2022-07-26\n",
      "Data columns (total 10 columns):\n",
      " #   Column    Non-Null Count  Dtype  \n",
      "---  ------    --------------  -----  \n",
      " 0   Open      3850 non-null   int64  \n",
      " 1   High      3850 non-null   int64  \n",
      " 2   Low       3850 non-null   int64  \n",
      " 3   Close     3850 non-null   int64  \n",
      " 4   Volume    3850 non-null   int64  \n",
      " 5   Change    3850 non-null   float64\n",
      " 6   C-Close   3850 non-null   float64\n",
      " 7   C-Change  3850 non-null   float64\n",
      " 8   I-Close   3850 non-null   float64\n",
      " 9   I-Change  3850 non-null   float64\n",
      "dtypes: float64(5), int64(5)\n",
      "memory usage: 330.9+ KB\n"
     ]
    }
   ],
   "source": [
    "# sample concatenation\n",
    "df1 = load_csv_data(data_files[0])\n",
    "df2 = load_csv_data(new_data_files[0])\n",
    "df = pd.concat([df1, df2])\n",
    "idx = df.index.unique().tolist()\n",
    "df.drop_duplicates(inplace=True)\n",
    "print(len(df1), len(df2))\n",
    "df.info()"
   ]
  },
  {
   "cell_type": "code",
   "execution_count": 9,
   "metadata": {
    "scrolled": true
   },
   "outputs": [
    {
     "data": {
      "application/vnd.jupyter.widget-view+json": {
       "model_id": "d48801aacc2749dca0b3f79251d92773",
       "version_major": 2,
       "version_minor": 0
      },
      "text/plain": [
       "HBox(children=(FloatProgress(value=0.0, max=2492.0), HTML(value='')))"
      ]
     },
     "metadata": {},
     "output_type": "display_data"
    },
    {
     "name": "stdout",
     "output_type": "stream",
     "text": [
      "\n"
     ]
    }
   ],
   "source": [
    "prog_bar = notebook.tqdm(data_files)\n",
    "\n",
    "for data_file in prog_bar:\n",
    "    df = load_csv_data(data_file)\n",
    "    new_df_path = data_file.replace(\n",
    "        os.path.dirname(data_files[0]), os.path.dirname(new_data_files[0])\n",
    "    )\n",
    "    if os.path.exists(new_df_path):\n",
    "        df_new = load_csv_data(new_df_path)\n",
    "        df_ = pd.concat([df, df_new])\n",
    "        df = df_.drop_duplicates().copy()\n",
    "#         print(f'new data {idx} added')\n",
    "    \n",
    "    idx = data_file.split('_')[1]\n",
    "    prog_bar.set_description_str(idx)\n",
    "    \n",
    "    high, low, close, volume = df['High'], df['Low'], df['Close'], df['Volume']\n",
    "    \n",
    "    for indicator in INDICATORS:\n",
    "        data = get_indicator(indicator, high=high, low=low, close=close, volume=volume)\n",
    "        df[indicator] = data\n",
    "\n",
    "    df = df[119:]  # drop ma_120 nan\n",
    "    scaled_df = scale_data(df, idx)\n",
    "    if scaled_df is None:\n",
    "        continue\n",
    "    \n",
    "    df.to_csv(os.path.join(DATA_DIR, f'original_data_{idx}' + DATA_EXT))\n",
    "    scaled_df.to_csv(os.path.join(SCALED_DATA_DIR, f'scaled_data_{idx}' + DATA_EXT))"
   ]
  },
  {
   "cell_type": "code",
   "execution_count": null,
   "metadata": {},
   "outputs": [],
   "source": []
  },
  {
   "cell_type": "code",
   "execution_count": null,
   "metadata": {},
   "outputs": [],
   "source": []
  },
  {
   "cell_type": "code",
   "execution_count": null,
   "metadata": {},
   "outputs": [],
   "source": []
  },
  {
   "cell_type": "code",
   "execution_count": null,
   "metadata": {},
   "outputs": [],
   "source": []
  },
  {
   "cell_type": "code",
   "execution_count": null,
   "metadata": {},
   "outputs": [],
   "source": []
  },
  {
   "cell_type": "code",
   "execution_count": null,
   "metadata": {},
   "outputs": [],
   "source": []
  }
 ],
 "metadata": {
  "kernelspec": {
   "display_name": "Python 3",
   "language": "python",
   "name": "python3"
  },
  "language_info": {
   "codemirror_mode": {
    "name": "ipython",
    "version": 3
   },
   "file_extension": ".py",
   "mimetype": "text/x-python",
   "name": "python",
   "nbconvert_exporter": "python",
   "pygments_lexer": "ipython3",
   "version": "3.8.3"
  }
 },
 "nbformat": 4,
 "nbformat_minor": 4
}
